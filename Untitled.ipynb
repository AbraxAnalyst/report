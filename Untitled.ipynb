{
 "cells": [
  {
   "cell_type": "code",
   "execution_count": null,
   "id": "27553601-176b-4dd2-a7ab-b6b431c10da7",
   "metadata": {},
   "outputs": [],
   "source": []
  },
  {
   "cell_type": "code",
   "execution_count": null,
   "id": "57727d38-15f4-43c8-aee1-922529d767fb",
   "metadata": {},
   "outputs": [],
   "source": []
  },
  {
   "cell_type": "code",
   "execution_count": 1,
   "id": "60d7399d-3fde-44db-990c-900615661738",
   "metadata": {},
   "outputs": [],
   "source": [
    "import pandas as pd\n",
    "\n",
    "# Load and process Utility data\n",
    "utility_df = pd.read_csv(\"EKEDC.csv\")\n",
    "utility_df = utility_df[['post_date', 'post_time', 'total_kw', 'kwh_import']]"
   ]
  },
  {
   "cell_type": "code",
   "execution_count": 2,
   "id": "7a273c29-1585-478a-9b63-896f1075e161",
   "metadata": {},
   "outputs": [],
   "source": [
    "gen1_df = pd.read_csv(\"Gen1.csv\")\n",
    "gen1_df = gen1_df[['post_date', 'post_time', 'total_kw', 'kwh_import']]"
   ]
  },
  {
   "cell_type": "code",
   "execution_count": 3,
   "id": "134c116a-e567-4b09-9670-2cd20f6356eb",
   "metadata": {},
   "outputs": [],
   "source": [
    "gen2_df = pd.read_csv(\"Gen.csv\")\n",
    "gen2_df = gen1_df[['post_date', 'post_time', 'total_kw', 'kwh_import']]"
   ]
  },
  {
   "cell_type": "code",
   "execution_count": 4,
   "id": "bd954ad1-ebfe-497a-a1e9-e9cf0ff4ad7c",
   "metadata": {},
   "outputs": [
    {
     "name": "stdout",
     "output_type": "stream",
     "text": [
      "Utility sample:\n",
      "    post_date post_time  total_kw  kwh_import\n",
      "0  2025-03-01  01:05:09      12.8        9658\n",
      "1  2025-03-01  01:10:09      12.0        9658\n",
      "2  2025-03-01  01:15:09      12.8        9660\n",
      "3  2025-03-01  01:20:10      12.0        9660\n",
      "4  2025-03-01  01:25:09      12.8        9662\n",
      "\n",
      "Gen1 sample:\n",
      "    post_date post_time  total_kw  kwh_import\n",
      "0  2025-03-01  14:15:08      19.6      7443.6\n",
      "1  2025-03-01  14:20:08      19.3      7444.8\n",
      "2  2025-03-01  14:25:09      18.7      7447.2\n",
      "3  2025-03-01  14:30:09      18.4      7448.4\n",
      "4  2025-03-01  14:35:09      18.7      7449.6\n",
      "\n",
      "Gen2 sample:\n",
      "    post_date post_time  total_kw  kwh_import\n",
      "0  2025-03-01  14:15:08      19.6      7443.6\n",
      "1  2025-03-01  14:20:08      19.3      7444.8\n",
      "2  2025-03-01  14:25:09      18.7      7447.2\n",
      "3  2025-03-01  14:30:09      18.4      7448.4\n",
      "4  2025-03-01  14:35:09      18.7      7449.6\n"
     ]
    }
   ],
   "source": [
    "# Optional: display sample from each\n",
    "print(\"Utility sample:\")\n",
    "print(utility_df.head())\n",
    "\n",
    "print(\"\\nGen1 sample:\")\n",
    "print(gen1_df.head())\n",
    "\n",
    "print(\"\\nGen2 sample:\")\n",
    "print(gen2_df.head())"
   ]
  },
  {
   "cell_type": "code",
   "execution_count": 5,
   "id": "c6f5f108-4372-4d2b-aa53-4ab7a5eaf6d2",
   "metadata": {},
   "outputs": [],
   "source": [
    "utility_df['KWh'] = utility_df['kwh_import'].diff()"
   ]
  },
  {
   "cell_type": "code",
   "execution_count": 9,
   "id": "e3f6078b-5d53-40d8-a938-3cdc0eeaf19b",
   "metadata": {},
   "outputs": [
    {
     "name": "stdout",
     "output_type": "stream",
     "text": [
      "Utility sample:\n",
      "       post_date post_time  total_kw  kwh_import  KWh\n",
      "3039  2025-03-31  21:35:13      17.6       17766  2.0\n",
      "3040  2025-03-31  21:40:13      20.0       17768  2.0\n",
      "3041  2025-03-31  21:45:13      17.2       17770  2.0\n",
      "3042  2025-03-31  21:50:13      24.4       17770  0.0\n",
      "3043  2025-03-31  21:55:13      20.4       17772  2.0\n"
     ]
    }
   ],
   "source": [
    "print(\"Utility sample:\")\n",
    "print(utility_df.tail(5))"
   ]
  },
  {
   "cell_type": "code",
   "execution_count": 7,
   "id": "e7df74b8-43fc-43b8-afbb-03c8c5253d99",
   "metadata": {},
   "outputs": [],
   "source": [
    "utility_df['KWh'] = utility_df['KWh'].fillna(0)\n"
   ]
  },
  {
   "cell_type": "code",
   "execution_count": 11,
   "id": "51c0126b-26e7-47e2-9883-224e2aed4497",
   "metadata": {},
   "outputs": [],
   "source": [
    "gen1_df['KWh'] = gen1_df['kwh_import'].diff()\n",
    "gen1_df['KWh'] = gen1_df['KWh'].fillna(0)\n",
    "\n",
    "gen2_df['KWh'] = gen2_df['kwh_import'].diff()\n",
    "gen2_df['KWh'] = gen2_df['KWh'].fillna(0)"
   ]
  },
  {
   "cell_type": "code",
   "execution_count": 12,
   "id": "b2f302d9-ece2-485b-894e-33e136dc1a44",
   "metadata": {},
   "outputs": [
    {
     "name": "stdout",
     "output_type": "stream",
     "text": [
      "Utility sample:\n",
      "    post_date post_time  total_kw  kwh_import  KWh\n",
      "0  2025-03-01  01:05:09      12.8        9658  0.0\n",
      "1  2025-03-01  01:10:09      12.0        9658  0.0\n",
      "2  2025-03-01  01:15:09      12.8        9660  2.0\n",
      "3  2025-03-01  01:20:10      12.0        9660  0.0\n",
      "4  2025-03-01  01:25:09      12.8        9662  2.0\n",
      "\n",
      "Gen1 sample:\n",
      "    post_date post_time  total_kw  kwh_import  KWh\n",
      "0  2025-03-01  14:15:08      19.6      7443.6  0.0\n",
      "1  2025-03-01  14:20:08      19.3      7444.8  1.2\n",
      "2  2025-03-01  14:25:09      18.7      7447.2  2.4\n",
      "3  2025-03-01  14:30:09      18.4      7448.4  1.2\n",
      "4  2025-03-01  14:35:09      18.7      7449.6  1.2\n",
      "\n",
      "Gen2 sample:\n",
      "    post_date post_time  total_kw  kwh_import  KWh\n",
      "0  2025-03-01  14:15:08      19.6      7443.6  0.0\n",
      "1  2025-03-01  14:20:08      19.3      7444.8  1.2\n",
      "2  2025-03-01  14:25:09      18.7      7447.2  2.4\n",
      "3  2025-03-01  14:30:09      18.4      7448.4  1.2\n",
      "4  2025-03-01  14:35:09      18.7      7449.6  1.2\n"
     ]
    }
   ],
   "source": [
    "print(\"Utility sample:\")\n",
    "print(utility_df.head())\n",
    "\n",
    "print(\"\\nGen1 sample:\")\n",
    "print(gen1_df.head())\n",
    "\n",
    "print(\"\\nGen2 sample:\")\n",
    "print(gen2_df.head())"
   ]
  },
  {
   "cell_type": "code",
   "execution_count": null,
   "id": "57f5b558-6cd3-412e-a2bb-71c1ddb0e819",
   "metadata": {},
   "outputs": [],
   "source": []
  },
  {
   "cell_type": "code",
   "execution_count": null,
   "id": "b295a27e-f9a2-429c-af0e-abaa17c3ff28",
   "metadata": {},
   "outputs": [],
   "source": []
  },
  {
   "cell_type": "code",
   "execution_count": null,
   "id": "95847b25-e059-4ddc-92ce-86eaadaaff91",
   "metadata": {},
   "outputs": [],
   "source": [
    "# Optionally: combine all into one DataFrame for unified analytics\n",
    "combined_df = pd.concat([utility_df, gen1_df, gen2_df], ignore_index=True)\n",
    "\n",
    "# Preview combined\n",
    "print(combined_df.head())\n"
   ]
  },
  {
   "cell_type": "code",
   "execution_count": 17,
   "id": "a2decc29-f0b5-417e-8cf3-f278c15ca9eb",
   "metadata": {},
   "outputs": [],
   "source": [
    "import pandas as pd\n",
    "\n",
    "def process_source(file_path, source_name):\n",
    "    # Load data\n",
    "    df = pd.read_csv(file_path)\n",
    "\n",
    "    # Select and clean the necessary columns\n",
    "    df = df[['post_date', 'post_time', 'total_kw', 'kwh_import']]\n",
    "    \n",
    "\n",
    "    # Sort to ensure proper order before differencing\n",
    "   \n",
    "\n",
    "    # Calculate KWh as the difference in kwh_import\n",
    "    df['KWh'] = df['kwh_import'].diff().fillna(0).round(2)\n",
    "\n",
    "    # Add the source column\n",
    "    df['source'] = source_name\n",
    "\n",
    "    # Reorder columns\n",
    "    df = df[['post_date', 'post_time', 'total_kw', 'kwh_import', 'KWh', 'source']]\n",
    "\n",
    "    return df\n",
    "\n"
   ]
  },
  {
   "cell_type": "code",
   "execution_count": 19,
   "id": "520a9dd7-2388-4fa8-9cf7-93d50b588b55",
   "metadata": {},
   "outputs": [],
   "source": [
    "# Process each source\n",
    "utility = process_source(\"EKEDC.csv\", \"Utility\")\n",
    "gen1 = process_source(\"Gen1.csv\", \"Gen1\")\n",
    "gen2 = process_source(\"Gen.csv\", \"Gen2\")\n",
    "\n"
   ]
  },
  {
   "cell_type": "code",
   "execution_count": 20,
   "id": "985032c5-71cf-4356-9d38-4aa4ed13e766",
   "metadata": {},
   "outputs": [
    {
     "name": "stdout",
     "output_type": "stream",
     "text": [
      "Utility sample:\n",
      "    post_date post_time  total_kw  kwh_import  KWh   source\n",
      "0  2025-03-01  01:05:09      12.8        9658  0.0  Utility\n",
      "1  2025-03-01  01:10:09      12.0        9658  0.0  Utility\n",
      "2  2025-03-01  01:15:09      12.8        9660  2.0  Utility\n",
      "3  2025-03-01  01:20:10      12.0        9660  0.0  Utility\n",
      "4  2025-03-01  01:25:09      12.8        9662  2.0  Utility\n",
      "\n",
      "Gen1 sample:\n",
      "    post_date post_time  total_kw  kwh_import  KWh source\n",
      "0  2025-03-01  14:15:08      19.6      7443.6  0.0   Gen1\n",
      "1  2025-03-01  14:20:08      19.3      7444.8  1.2   Gen1\n",
      "2  2025-03-01  14:25:09      18.7      7447.2  2.4   Gen1\n",
      "3  2025-03-01  14:30:09      18.4      7448.4  1.2   Gen1\n",
      "4  2025-03-01  14:35:09      18.7      7449.6  1.2   Gen1\n",
      "\n",
      "Gen2 sample:\n",
      "    post_date post_time  total_kw  kwh_import  KWh source\n",
      "0  2025-03-01  00:05:08       0.0        5824  0.0   Gen2\n",
      "1  2025-03-01  01:05:08       0.0        5824  0.0   Gen2\n",
      "2  2025-03-01  01:10:08       0.0        5824  0.0   Gen2\n",
      "3  2025-03-01  01:15:08       0.0        5824  0.0   Gen2\n",
      "4  2025-03-01  01:20:08       0.0        5824  0.0   Gen2\n"
     ]
    }
   ],
   "source": [
    "print(\"Utility sample:\")\n",
    "print(utility.head())\n",
    "\n",
    "print(\"\\nGen1 sample:\")\n",
    "print(gen1.head())\n",
    "\n",
    "print(\"\\nGen2 sample:\")\n",
    "print(gen2.head())"
   ]
  },
  {
   "cell_type": "code",
   "execution_count": 29,
   "id": "4f6c1fa2-6527-43ca-b72a-851339f44fa2",
   "metadata": {},
   "outputs": [
    {
     "name": "stdout",
     "output_type": "stream",
     "text": [
      "    post_date post_time  total_kw  kwh_import  KWh   source\n",
      "0  2025-03-01  01:05:09      12.8      9658.0  0.0  Utility\n",
      "1  2025-03-01  01:10:09      12.0      9658.0  0.0  Utility\n",
      "2  2025-03-01  01:15:09      12.8      9660.0  2.0  Utility\n",
      "3  2025-03-01  01:20:10      12.0      9660.0  0.0  Utility\n",
      "4  2025-03-01  01:25:09      12.8      9662.0  2.0  Utility\n"
     ]
    }
   ],
   "source": [
    "# Optionally: combine all into one DataFrame for unified analytics\n",
    "combined_df = pd.concat([utility, gen1, gen2], ignore_index=True)\n",
    "\n",
    "# Preview combined\n",
    "print(combined_df.head())\n"
   ]
  },
  {
   "cell_type": "code",
   "execution_count": 30,
   "id": "65813624-0116-4681-9464-3feb792de6cc",
   "metadata": {},
   "outputs": [
    {
     "name": "stdout",
     "output_type": "stream",
     "text": [
      "26584.400000000125\n"
     ]
    }
   ],
   "source": [
    "print(sum(combined_df['KWh'])) "
   ]
  },
  {
   "cell_type": "code",
   "execution_count": 23,
   "id": "238ff57a-da97-42d3-bb18-cd2617bec1c7",
   "metadata": {},
   "outputs": [
    {
     "name": "stdout",
     "output_type": "stream",
     "text": [
      "8114.0\n",
      "4406.399999999992\n",
      "14064.0\n"
     ]
    }
   ],
   "source": [
    "print(sum(utility['KWh'])) \n",
    "print(sum(gen1['KWh'])) \n",
    "print(sum(gen2['KWh'])) "
   ]
  },
  {
   "cell_type": "code",
   "execution_count": 28,
   "id": "4992dd33-adce-415d-aaf6-474e96b3c934",
   "metadata": {},
   "outputs": [
    {
     "ename": "KeyError",
     "evalue": "\"['source'] not in index\"",
     "output_type": "error",
     "traceback": [
      "\u001b[1;31m---------------------------------------------------------------------------\u001b[0m",
      "\u001b[1;31mKeyError\u001b[0m                                  Traceback (most recent call last)",
      "Cell \u001b[1;32mIn[28], line 4\u001b[0m\n\u001b[0;32m      1\u001b[0m \u001b[38;5;66;03m#combined = pd.concat([utility, gen1, gen2], ignore_index=True)\u001b[39;00m\n\u001b[0;32m      2\u001b[0m \n\u001b[0;32m      3\u001b[0m \u001b[38;5;66;03m# Confirm source column exists\u001b[39;00m\n\u001b[1;32m----> 4\u001b[0m \u001b[38;5;28mprint\u001b[39m(\u001b[43mcombined_df\u001b[49m\u001b[43m[\u001b[49m\u001b[43m[\u001b[49m\u001b[38;5;124;43m'\u001b[39;49m\u001b[38;5;124;43mKWh\u001b[39;49m\u001b[38;5;124;43m'\u001b[39;49m\u001b[43m,\u001b[49m\u001b[43m \u001b[49m\u001b[38;5;124;43m'\u001b[39;49m\u001b[38;5;124;43msource\u001b[39;49m\u001b[38;5;124;43m'\u001b[39;49m\u001b[43m]\u001b[49m\u001b[43m]\u001b[49m\u001b[38;5;241m.\u001b[39mhead())\n",
      "File \u001b[1;32m~\\AppData\\Local\\Programs\\Python\\Python311\\Lib\\site-packages\\pandas\\core\\frame.py:4096\u001b[0m, in \u001b[0;36mDataFrame.__getitem__\u001b[1;34m(self, key)\u001b[0m\n\u001b[0;32m   4094\u001b[0m     \u001b[38;5;28;01mif\u001b[39;00m is_iterator(key):\n\u001b[0;32m   4095\u001b[0m         key \u001b[38;5;241m=\u001b[39m \u001b[38;5;28mlist\u001b[39m(key)\n\u001b[1;32m-> 4096\u001b[0m     indexer \u001b[38;5;241m=\u001b[39m \u001b[38;5;28;43mself\u001b[39;49m\u001b[38;5;241;43m.\u001b[39;49m\u001b[43mcolumns\u001b[49m\u001b[38;5;241;43m.\u001b[39;49m\u001b[43m_get_indexer_strict\u001b[49m\u001b[43m(\u001b[49m\u001b[43mkey\u001b[49m\u001b[43m,\u001b[49m\u001b[43m \u001b[49m\u001b[38;5;124;43m\"\u001b[39;49m\u001b[38;5;124;43mcolumns\u001b[39;49m\u001b[38;5;124;43m\"\u001b[39;49m\u001b[43m)\u001b[49m[\u001b[38;5;241m1\u001b[39m]\n\u001b[0;32m   4098\u001b[0m \u001b[38;5;66;03m# take() does not accept boolean indexers\u001b[39;00m\n\u001b[0;32m   4099\u001b[0m \u001b[38;5;28;01mif\u001b[39;00m \u001b[38;5;28mgetattr\u001b[39m(indexer, \u001b[38;5;124m\"\u001b[39m\u001b[38;5;124mdtype\u001b[39m\u001b[38;5;124m\"\u001b[39m, \u001b[38;5;28;01mNone\u001b[39;00m) \u001b[38;5;241m==\u001b[39m \u001b[38;5;28mbool\u001b[39m:\n",
      "File \u001b[1;32m~\\AppData\\Local\\Programs\\Python\\Python311\\Lib\\site-packages\\pandas\\core\\indexes\\base.py:6200\u001b[0m, in \u001b[0;36mIndex._get_indexer_strict\u001b[1;34m(self, key, axis_name)\u001b[0m\n\u001b[0;32m   6197\u001b[0m \u001b[38;5;28;01melse\u001b[39;00m:\n\u001b[0;32m   6198\u001b[0m     keyarr, indexer, new_indexer \u001b[38;5;241m=\u001b[39m \u001b[38;5;28mself\u001b[39m\u001b[38;5;241m.\u001b[39m_reindex_non_unique(keyarr)\n\u001b[1;32m-> 6200\u001b[0m \u001b[38;5;28;43mself\u001b[39;49m\u001b[38;5;241;43m.\u001b[39;49m\u001b[43m_raise_if_missing\u001b[49m\u001b[43m(\u001b[49m\u001b[43mkeyarr\u001b[49m\u001b[43m,\u001b[49m\u001b[43m \u001b[49m\u001b[43mindexer\u001b[49m\u001b[43m,\u001b[49m\u001b[43m \u001b[49m\u001b[43maxis_name\u001b[49m\u001b[43m)\u001b[49m\n\u001b[0;32m   6202\u001b[0m keyarr \u001b[38;5;241m=\u001b[39m \u001b[38;5;28mself\u001b[39m\u001b[38;5;241m.\u001b[39mtake(indexer)\n\u001b[0;32m   6203\u001b[0m \u001b[38;5;28;01mif\u001b[39;00m \u001b[38;5;28misinstance\u001b[39m(key, Index):\n\u001b[0;32m   6204\u001b[0m     \u001b[38;5;66;03m# GH 42790 - Preserve name from an Index\u001b[39;00m\n",
      "File \u001b[1;32m~\\AppData\\Local\\Programs\\Python\\Python311\\Lib\\site-packages\\pandas\\core\\indexes\\base.py:6252\u001b[0m, in \u001b[0;36mIndex._raise_if_missing\u001b[1;34m(self, key, indexer, axis_name)\u001b[0m\n\u001b[0;32m   6249\u001b[0m     \u001b[38;5;28;01mraise\u001b[39;00m \u001b[38;5;167;01mKeyError\u001b[39;00m(\u001b[38;5;124mf\u001b[39m\u001b[38;5;124m\"\u001b[39m\u001b[38;5;124mNone of [\u001b[39m\u001b[38;5;132;01m{\u001b[39;00mkey\u001b[38;5;132;01m}\u001b[39;00m\u001b[38;5;124m] are in the [\u001b[39m\u001b[38;5;132;01m{\u001b[39;00maxis_name\u001b[38;5;132;01m}\u001b[39;00m\u001b[38;5;124m]\u001b[39m\u001b[38;5;124m\"\u001b[39m)\n\u001b[0;32m   6251\u001b[0m not_found \u001b[38;5;241m=\u001b[39m \u001b[38;5;28mlist\u001b[39m(ensure_index(key)[missing_mask\u001b[38;5;241m.\u001b[39mnonzero()[\u001b[38;5;241m0\u001b[39m]]\u001b[38;5;241m.\u001b[39munique())\n\u001b[1;32m-> 6252\u001b[0m \u001b[38;5;28;01mraise\u001b[39;00m \u001b[38;5;167;01mKeyError\u001b[39;00m(\u001b[38;5;124mf\u001b[39m\u001b[38;5;124m\"\u001b[39m\u001b[38;5;132;01m{\u001b[39;00mnot_found\u001b[38;5;132;01m}\u001b[39;00m\u001b[38;5;124m not in index\u001b[39m\u001b[38;5;124m\"\u001b[39m)\n",
      "\u001b[1;31mKeyError\u001b[0m: \"['source'] not in index\""
     ]
    }
   ],
   "source": [
    "combined = pd.concat([utility, gen1, gen2], ignore_index=True)\n",
    "\n",
    "# Confirm source column exists\n",
    "print(combined_df[['KWh', 'source']].head())"
   ]
  },
  {
   "cell_type": "code",
   "execution_count": null,
   "id": "538c5bf0-2e26-4f7d-8bb0-4d72a9abf550",
   "metadata": {},
   "outputs": [],
   "source": []
  }
 ],
 "metadata": {
  "kernelspec": {
   "display_name": "Python 3 (ipykernel)",
   "language": "python",
   "name": "python3"
  },
  "language_info": {
   "codemirror_mode": {
    "name": "ipython",
    "version": 3
   },
   "file_extension": ".py",
   "mimetype": "text/x-python",
   "name": "python",
   "nbconvert_exporter": "python",
   "pygments_lexer": "ipython3",
   "version": "3.11.8"
  }
 },
 "nbformat": 4,
 "nbformat_minor": 5
}
